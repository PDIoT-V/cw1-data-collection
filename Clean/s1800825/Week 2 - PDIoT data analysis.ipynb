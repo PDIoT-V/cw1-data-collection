{
 "cells": [
  {
   "cell_type": "markdown",
   "metadata": {},
   "source": [
    "<h1>PDIoT Data Analysis</h1>\n",
    "<p>Hopefully by now you have collected some HAR data. We are asking you to collect data from two sensors - the Respeck (25Hz, accel and gyro) and the Thingy (25Hz, accel, gyro and magnetometer).</p>\n",
    "\n",
    "<p> The Respeck is worn on the lower left ribcage, and the Thingy is worn in the front right pocket of the trousers. </p>\n",
    "\n",
    "<p> We will explore some example data in this notebook. </p>\n",
    "\n",
    "<h3>Accelerometer</h3>\n",
    "<ul>\n",
    "    <li>Measures acceleration (including gravity)</li>\n",
    "    <li>Observing the change in direction of gravity often more useful than linear acceleration due to movement</li>\n",
    "    <li>Sensor values given in g along the axis of interest</li>\n",
    "    <li>Placing our sensor flat on the table should give -1g on the Z axis and 0g on the other axes</li>\n",
    "    <li>Cheap to buy and low power consumption</li>\n",
    "</ul>\n",
    "\n",
    "<h3>Gyroscope</h3>\n",
    "<ul>\n",
    "    <li>Measures angular velocity</li>\n",
    "    <li>Sensor values given in radians per second (deg/sec) along the axis of interest</li>\n",
    "    <li>Placing our sensor flat on the table should give 0 values along all axes</li>\n",
    "    <li>Higher power consumption</li>\n",
    "</ul>\n",
    "\n",
    "<h2>Human Activity Recognition</h2>\n",
    "\n",
    "<p>Your are expected to research and develop the HAR algorithm yourselves during the course. A useful first stage  will be to look at some activity data visually to understand how the sensors react to different types of movement.</p>\n",
    "\n",
    "<p>You are free to use any programming language for the data analysis part of the project, but we recommend using Python and Jupyter Notebook to quickly explore ideas. Below is a simple example using Python/Pandas to graph acceleration data from a sample of walking data.</p>"
   ]
  },
  {
   "cell_type": "markdown",
   "metadata": {},
   "source": [
    "#### Basic imports"
   ]
  },
  {
   "cell_type": "code",
   "execution_count": 16,
   "metadata": {},
   "outputs": [],
   "source": [
    "import pandas as pd\n",
    "import matplotlib.pyplot as plt\n",
    "from typing import Tuple\n",
    "# %matplotlib notebook"
   ]
  },
  {
   "cell_type": "markdown",
   "metadata": {},
   "source": [
    "### Reading the header"
   ]
  },
  {
   "cell_type": "markdown",
   "metadata": {},
   "source": [
    "The files contain a header of size 5. This is where we specify the recording values:\n",
    "- sensor type (Respeck or Thingy)\n",
    "- activity type\n",
    "- activity code (you can find the mapping between activities and their codes in the Constants file on the app)\n",
    "- subject ID (always a student number)\n",
    "- notes (can be empty)"
   ]
  },
  {
   "cell_type": "code",
   "execution_count": 17,
   "metadata": {},
   "outputs": [
    {
     "name": "stdout",
     "output_type": "stream",
     "text": [
      "Sensor type: Respeck\n",
      "Activity type: Sitting\n",
      "Activity code: 0\n",
      "Subject id: s1800825\n",
      "Notes:\n"
     ]
    }
   ],
   "source": [
    "filename_respeck = \"./Data/Respeck_s1800825_Sitting_28-09-2022_16-06-09.csv\"\n",
    "header_size = 5\n",
    "\n",
    "with open(filename_respeck) as f:\n",
    "    head = [next(f).rstrip().split('# ')[1] for x in range(header_size)]\n",
    "    for l in head:\n",
    "        print(l)\n",
    "        "
   ]
  },
  {
   "cell_type": "markdown",
   "metadata": {},
   "source": [
    "### Getting the recording metadata"
   ]
  },
  {
   "cell_type": "markdown",
   "metadata": {},
   "source": [
    "It's useful to store the metadata about each recording, as you will need it for later."
   ]
  },
  {
   "cell_type": "code",
   "execution_count": 18,
   "metadata": {},
   "outputs": [
    {
     "name": "stdout",
     "output_type": "stream",
     "text": [
      "Sensor type: Respeck\n",
      "Activity type: Sitting\n",
      "Activity code: 0\n",
      "Subject id: s1800825\n",
      "Notes:\n"
     ]
    }
   ],
   "source": [
    "sensor_type = \"\"\n",
    "activity_type = \"\"\n",
    "activity_code = -1\n",
    "subject_id = \"\"\n",
    "notes = \"\"\n",
    "\n",
    "with open(filename_respeck) as f:\n",
    "    head = [next(f).rstrip().split('# ')[1] for x in range(header_size)]\n",
    "    for l in head:\n",
    "        print(l)\n",
    "        \n",
    "        title, value = l.split(\":\")\n",
    "        \n",
    "        if title == \"Sensor type\":\n",
    "            sensor_type = value.strip()\n",
    "        elif title == \"Activity type\":\n",
    "            activity_type = value.strip()\n",
    "        elif title == \"Activity code\":\n",
    "            activity_code = int(value.strip())\n",
    "        elif title == \"Subject id\":\n",
    "            subject_id = value.strip()\n",
    "        elif title == \"Notes\":\n",
    "            notes = value.strip()"
   ]
  },
  {
   "cell_type": "markdown",
   "metadata": {},
   "source": [
    "You might use this later so you can pack it up into a function"
   ]
  },
  {
   "cell_type": "code",
   "execution_count": 19,
   "metadata": {},
   "outputs": [],
   "source": [
    "def extract_header_info(filename: str, header_size: int = 5) -> Tuple[str, str, int, str, str]:\n",
    "    \"\"\"\n",
    "    :param filename: Path to recording file.\n",
    "    :param header_size: The size of the header, defaults to 5.\n",
    "    :returns: A 5-tuple containing the sensor type, activity type, activity code, subject id and any notes.\n",
    "    \"\"\"\n",
    "    sensor_type = \"\"\n",
    "    activity_type = \"\"\n",
    "    activity_code = -1\n",
    "    subject_id = \"\"\n",
    "    notes = \"\"\n",
    "\n",
    "    with open(filename) as f:\n",
    "        head = [next(f).rstrip().split('# ')[1] for x in range(header_size)]\n",
    "        for l in head:\n",
    "            print(l)\n",
    "\n",
    "            title, value = l.split(\":\")\n",
    "\n",
    "            if title == \"Sensor type\":\n",
    "                sensor_type = value.strip()\n",
    "            elif title == \"Activity type\":\n",
    "                activity_type = value.strip()\n",
    "            elif title == \"Activity code\":\n",
    "                activity_code = int(value.strip())\n",
    "            elif title == \"Subject id\":\n",
    "                subject_id = value.strip()\n",
    "            elif title == \"Notes\":\n",
    "                notes = value.strip()\n",
    "    \n",
    "    return sensor_type, activity_type, activity_code, subject_id, notes"
   ]
  },
  {
   "cell_type": "markdown",
   "metadata": {},
   "source": [
    "And now we can get the variables by applying the function"
   ]
  },
  {
   "cell_type": "code",
   "execution_count": 20,
   "metadata": {},
   "outputs": [
    {
     "name": "stdout",
     "output_type": "stream",
     "text": [
      "Sensor type: Respeck\n",
      "Activity type: Sitting\n",
      "Activity code: 0\n",
      "Subject id: s1800825\n",
      "Notes:\n"
     ]
    }
   ],
   "source": [
    "sensor_type, activity_type, activity_code, subject_id, notes = extract_header_info(filename=filename_respeck)"
   ]
  },
  {
   "cell_type": "markdown",
   "metadata": {},
   "source": [
    "### Reading the file"
   ]
  },
  {
   "cell_type": "markdown",
   "metadata": {},
   "source": [
    "You can load the file itself using Pandas. You need to specify the amount of rows to be skipped in the beginning (the header size)."
   ]
  },
  {
   "cell_type": "code",
   "execution_count": 21,
   "metadata": {
    "scrolled": true
   },
   "outputs": [
    {
     "name": "stdout",
     "output_type": "stream",
     "text": [
      "         timestamp   accel_x   accel_y   accel_z    gyro_x    gyro_y    gyro_z\n",
      "0    1664377543318  0.019043 -0.979797  0.158386 -0.296875  0.328125 -0.406250\n",
      "1    1664377543347  0.020996 -1.003723  0.158630  0.062500  0.328125 -0.031250\n",
      "2    1664377543377  0.022217 -0.982971  0.157410 -0.062500  0.093750 -0.140625\n",
      "3    1664377543438  0.019043 -1.000549  0.147156  1.031250  0.562500  0.078125\n",
      "4    1664377543466  0.024902 -0.984192  0.156921 -0.171875  0.296875 -0.046875\n",
      "..             ...       ...       ...       ...       ...       ...       ...\n",
      "649  1664377568939  0.016846 -0.978088  0.216003 -0.390625 -0.437500 -0.328125\n",
      "650  1664377568952  0.039307 -0.988098  0.208435  1.875000  0.984375  0.156250\n",
      "651  1664377568998  0.026855 -0.974915  0.210144 -0.234375  0.828125 -0.125000\n",
      "652  1664377569058  0.029785 -0.988342  0.209412  0.281250  0.578125  0.109375\n",
      "653  1664377569072  0.040527 -0.978333  0.209656  0.421875  0.390625  0.031250\n",
      "\n",
      "[654 rows x 7 columns]\n"
     ]
    }
   ],
   "source": [
    "df_respeck = pd.read_csv(filename_respeck, header=header_size)\n",
    "print(df_respeck)"
   ]
  },
  {
   "cell_type": "markdown",
   "metadata": {},
   "source": [
    "To save the recording metadata for later we can append them as values in new columns"
   ]
  },
  {
   "cell_type": "code",
   "execution_count": 22,
   "metadata": {},
   "outputs": [],
   "source": [
    "df_respeck['sensor_type'] = sensor_type\n",
    "df_respeck['activity_type'] = activity_type\n",
    "df_respeck['activity_code'] = activity_code\n",
    "df_respeck['subject_id'] = subject_id\n",
    "df_respeck['notes'] = notes"
   ]
  },
  {
   "cell_type": "code",
   "execution_count": 23,
   "metadata": {},
   "outputs": [
    {
     "data": {
      "text/html": [
       "<div>\n",
       "<style scoped>\n",
       "    .dataframe tbody tr th:only-of-type {\n",
       "        vertical-align: middle;\n",
       "    }\n",
       "\n",
       "    .dataframe tbody tr th {\n",
       "        vertical-align: top;\n",
       "    }\n",
       "\n",
       "    .dataframe thead th {\n",
       "        text-align: right;\n",
       "    }\n",
       "</style>\n",
       "<table border=\"1\" class=\"dataframe\">\n",
       "  <thead>\n",
       "    <tr style=\"text-align: right;\">\n",
       "      <th></th>\n",
       "      <th>timestamp</th>\n",
       "      <th>accel_x</th>\n",
       "      <th>accel_y</th>\n",
       "      <th>accel_z</th>\n",
       "      <th>gyro_x</th>\n",
       "      <th>gyro_y</th>\n",
       "      <th>gyro_z</th>\n",
       "      <th>sensor_type</th>\n",
       "      <th>activity_type</th>\n",
       "      <th>activity_code</th>\n",
       "      <th>subject_id</th>\n",
       "      <th>notes</th>\n",
       "    </tr>\n",
       "  </thead>\n",
       "  <tbody>\n",
       "    <tr>\n",
       "      <th>0</th>\n",
       "      <td>1664377543318</td>\n",
       "      <td>0.019043</td>\n",
       "      <td>-0.979797</td>\n",
       "      <td>0.158386</td>\n",
       "      <td>-0.296875</td>\n",
       "      <td>0.328125</td>\n",
       "      <td>-0.406250</td>\n",
       "      <td>Respeck</td>\n",
       "      <td>Sitting</td>\n",
       "      <td>0</td>\n",
       "      <td>s1800825</td>\n",
       "      <td></td>\n",
       "    </tr>\n",
       "    <tr>\n",
       "      <th>1</th>\n",
       "      <td>1664377543347</td>\n",
       "      <td>0.020996</td>\n",
       "      <td>-1.003723</td>\n",
       "      <td>0.158630</td>\n",
       "      <td>0.062500</td>\n",
       "      <td>0.328125</td>\n",
       "      <td>-0.031250</td>\n",
       "      <td>Respeck</td>\n",
       "      <td>Sitting</td>\n",
       "      <td>0</td>\n",
       "      <td>s1800825</td>\n",
       "      <td></td>\n",
       "    </tr>\n",
       "    <tr>\n",
       "      <th>2</th>\n",
       "      <td>1664377543377</td>\n",
       "      <td>0.022217</td>\n",
       "      <td>-0.982971</td>\n",
       "      <td>0.157410</td>\n",
       "      <td>-0.062500</td>\n",
       "      <td>0.093750</td>\n",
       "      <td>-0.140625</td>\n",
       "      <td>Respeck</td>\n",
       "      <td>Sitting</td>\n",
       "      <td>0</td>\n",
       "      <td>s1800825</td>\n",
       "      <td></td>\n",
       "    </tr>\n",
       "    <tr>\n",
       "      <th>3</th>\n",
       "      <td>1664377543438</td>\n",
       "      <td>0.019043</td>\n",
       "      <td>-1.000549</td>\n",
       "      <td>0.147156</td>\n",
       "      <td>1.031250</td>\n",
       "      <td>0.562500</td>\n",
       "      <td>0.078125</td>\n",
       "      <td>Respeck</td>\n",
       "      <td>Sitting</td>\n",
       "      <td>0</td>\n",
       "      <td>s1800825</td>\n",
       "      <td></td>\n",
       "    </tr>\n",
       "    <tr>\n",
       "      <th>4</th>\n",
       "      <td>1664377543466</td>\n",
       "      <td>0.024902</td>\n",
       "      <td>-0.984192</td>\n",
       "      <td>0.156921</td>\n",
       "      <td>-0.171875</td>\n",
       "      <td>0.296875</td>\n",
       "      <td>-0.046875</td>\n",
       "      <td>Respeck</td>\n",
       "      <td>Sitting</td>\n",
       "      <td>0</td>\n",
       "      <td>s1800825</td>\n",
       "      <td></td>\n",
       "    </tr>\n",
       "    <tr>\n",
       "      <th>...</th>\n",
       "      <td>...</td>\n",
       "      <td>...</td>\n",
       "      <td>...</td>\n",
       "      <td>...</td>\n",
       "      <td>...</td>\n",
       "      <td>...</td>\n",
       "      <td>...</td>\n",
       "      <td>...</td>\n",
       "      <td>...</td>\n",
       "      <td>...</td>\n",
       "      <td>...</td>\n",
       "      <td>...</td>\n",
       "    </tr>\n",
       "    <tr>\n",
       "      <th>649</th>\n",
       "      <td>1664377568939</td>\n",
       "      <td>0.016846</td>\n",
       "      <td>-0.978088</td>\n",
       "      <td>0.216003</td>\n",
       "      <td>-0.390625</td>\n",
       "      <td>-0.437500</td>\n",
       "      <td>-0.328125</td>\n",
       "      <td>Respeck</td>\n",
       "      <td>Sitting</td>\n",
       "      <td>0</td>\n",
       "      <td>s1800825</td>\n",
       "      <td></td>\n",
       "    </tr>\n",
       "    <tr>\n",
       "      <th>650</th>\n",
       "      <td>1664377568952</td>\n",
       "      <td>0.039307</td>\n",
       "      <td>-0.988098</td>\n",
       "      <td>0.208435</td>\n",
       "      <td>1.875000</td>\n",
       "      <td>0.984375</td>\n",
       "      <td>0.156250</td>\n",
       "      <td>Respeck</td>\n",
       "      <td>Sitting</td>\n",
       "      <td>0</td>\n",
       "      <td>s1800825</td>\n",
       "      <td></td>\n",
       "    </tr>\n",
       "    <tr>\n",
       "      <th>651</th>\n",
       "      <td>1664377568998</td>\n",
       "      <td>0.026855</td>\n",
       "      <td>-0.974915</td>\n",
       "      <td>0.210144</td>\n",
       "      <td>-0.234375</td>\n",
       "      <td>0.828125</td>\n",
       "      <td>-0.125000</td>\n",
       "      <td>Respeck</td>\n",
       "      <td>Sitting</td>\n",
       "      <td>0</td>\n",
       "      <td>s1800825</td>\n",
       "      <td></td>\n",
       "    </tr>\n",
       "    <tr>\n",
       "      <th>652</th>\n",
       "      <td>1664377569058</td>\n",
       "      <td>0.029785</td>\n",
       "      <td>-0.988342</td>\n",
       "      <td>0.209412</td>\n",
       "      <td>0.281250</td>\n",
       "      <td>0.578125</td>\n",
       "      <td>0.109375</td>\n",
       "      <td>Respeck</td>\n",
       "      <td>Sitting</td>\n",
       "      <td>0</td>\n",
       "      <td>s1800825</td>\n",
       "      <td></td>\n",
       "    </tr>\n",
       "    <tr>\n",
       "      <th>653</th>\n",
       "      <td>1664377569072</td>\n",
       "      <td>0.040527</td>\n",
       "      <td>-0.978333</td>\n",
       "      <td>0.209656</td>\n",
       "      <td>0.421875</td>\n",
       "      <td>0.390625</td>\n",
       "      <td>0.031250</td>\n",
       "      <td>Respeck</td>\n",
       "      <td>Sitting</td>\n",
       "      <td>0</td>\n",
       "      <td>s1800825</td>\n",
       "      <td></td>\n",
       "    </tr>\n",
       "  </tbody>\n",
       "</table>\n",
       "<p>654 rows × 12 columns</p>\n",
       "</div>"
      ],
      "text/plain": [
       "         timestamp   accel_x   accel_y   accel_z    gyro_x    gyro_y  \\\n",
       "0    1664377543318  0.019043 -0.979797  0.158386 -0.296875  0.328125   \n",
       "1    1664377543347  0.020996 -1.003723  0.158630  0.062500  0.328125   \n",
       "2    1664377543377  0.022217 -0.982971  0.157410 -0.062500  0.093750   \n",
       "3    1664377543438  0.019043 -1.000549  0.147156  1.031250  0.562500   \n",
       "4    1664377543466  0.024902 -0.984192  0.156921 -0.171875  0.296875   \n",
       "..             ...       ...       ...       ...       ...       ...   \n",
       "649  1664377568939  0.016846 -0.978088  0.216003 -0.390625 -0.437500   \n",
       "650  1664377568952  0.039307 -0.988098  0.208435  1.875000  0.984375   \n",
       "651  1664377568998  0.026855 -0.974915  0.210144 -0.234375  0.828125   \n",
       "652  1664377569058  0.029785 -0.988342  0.209412  0.281250  0.578125   \n",
       "653  1664377569072  0.040527 -0.978333  0.209656  0.421875  0.390625   \n",
       "\n",
       "       gyro_z sensor_type activity_type  activity_code subject_id notes  \n",
       "0   -0.406250     Respeck       Sitting              0   s1800825        \n",
       "1   -0.031250     Respeck       Sitting              0   s1800825        \n",
       "2   -0.140625     Respeck       Sitting              0   s1800825        \n",
       "3    0.078125     Respeck       Sitting              0   s1800825        \n",
       "4   -0.046875     Respeck       Sitting              0   s1800825        \n",
       "..        ...         ...           ...            ...        ...   ...  \n",
       "649 -0.328125     Respeck       Sitting              0   s1800825        \n",
       "650  0.156250     Respeck       Sitting              0   s1800825        \n",
       "651 -0.125000     Respeck       Sitting              0   s1800825        \n",
       "652  0.109375     Respeck       Sitting              0   s1800825        \n",
       "653  0.031250     Respeck       Sitting              0   s1800825        \n",
       "\n",
       "[654 rows x 12 columns]"
      ]
     },
     "execution_count": 23,
     "metadata": {},
     "output_type": "execute_result"
    }
   ],
   "source": [
    "df_respeck"
   ]
  },
  {
   "cell_type": "markdown",
   "metadata": {},
   "source": [
    "One more important value to save for later is a recording ID. This will be used to split the entire dataset into separate recordings before you start doing any further splitting into windows. The name of the file can act as the unique recording ID for each recording. "
   ]
  },
  {
   "cell_type": "code",
   "execution_count": 24,
   "metadata": {},
   "outputs": [
    {
     "data": {
      "text/plain": [
       "'Respeck_s1800825_Sitting_28-09-2022_16-06-09'"
      ]
     },
     "execution_count": 24,
     "metadata": {},
     "output_type": "execute_result"
    }
   ],
   "source": [
    "filename_respeck.split(\"/\")[-1].split(\".\")[0]"
   ]
  },
  {
   "cell_type": "code",
   "execution_count": 25,
   "metadata": {},
   "outputs": [],
   "source": [
    "df_respeck['recording_id'] = filename_respeck.split(\"/\")[-1].split(\".\")[0]"
   ]
  },
  {
   "cell_type": "code",
   "execution_count": 26,
   "metadata": {},
   "outputs": [
    {
     "data": {
      "text/html": [
       "<div>\n",
       "<style scoped>\n",
       "    .dataframe tbody tr th:only-of-type {\n",
       "        vertical-align: middle;\n",
       "    }\n",
       "\n",
       "    .dataframe tbody tr th {\n",
       "        vertical-align: top;\n",
       "    }\n",
       "\n",
       "    .dataframe thead th {\n",
       "        text-align: right;\n",
       "    }\n",
       "</style>\n",
       "<table border=\"1\" class=\"dataframe\">\n",
       "  <thead>\n",
       "    <tr style=\"text-align: right;\">\n",
       "      <th></th>\n",
       "      <th>timestamp</th>\n",
       "      <th>accel_x</th>\n",
       "      <th>accel_y</th>\n",
       "      <th>accel_z</th>\n",
       "      <th>gyro_x</th>\n",
       "      <th>gyro_y</th>\n",
       "      <th>gyro_z</th>\n",
       "      <th>sensor_type</th>\n",
       "      <th>activity_type</th>\n",
       "      <th>activity_code</th>\n",
       "      <th>subject_id</th>\n",
       "      <th>notes</th>\n",
       "      <th>recording_id</th>\n",
       "    </tr>\n",
       "  </thead>\n",
       "  <tbody>\n",
       "    <tr>\n",
       "      <th>0</th>\n",
       "      <td>1664377543318</td>\n",
       "      <td>0.019043</td>\n",
       "      <td>-0.979797</td>\n",
       "      <td>0.158386</td>\n",
       "      <td>-0.296875</td>\n",
       "      <td>0.328125</td>\n",
       "      <td>-0.406250</td>\n",
       "      <td>Respeck</td>\n",
       "      <td>Sitting</td>\n",
       "      <td>0</td>\n",
       "      <td>s1800825</td>\n",
       "      <td></td>\n",
       "      <td>Respeck_s1800825_Sitting_28-09-2022_16-06-09</td>\n",
       "    </tr>\n",
       "    <tr>\n",
       "      <th>1</th>\n",
       "      <td>1664377543347</td>\n",
       "      <td>0.020996</td>\n",
       "      <td>-1.003723</td>\n",
       "      <td>0.158630</td>\n",
       "      <td>0.062500</td>\n",
       "      <td>0.328125</td>\n",
       "      <td>-0.031250</td>\n",
       "      <td>Respeck</td>\n",
       "      <td>Sitting</td>\n",
       "      <td>0</td>\n",
       "      <td>s1800825</td>\n",
       "      <td></td>\n",
       "      <td>Respeck_s1800825_Sitting_28-09-2022_16-06-09</td>\n",
       "    </tr>\n",
       "    <tr>\n",
       "      <th>2</th>\n",
       "      <td>1664377543377</td>\n",
       "      <td>0.022217</td>\n",
       "      <td>-0.982971</td>\n",
       "      <td>0.157410</td>\n",
       "      <td>-0.062500</td>\n",
       "      <td>0.093750</td>\n",
       "      <td>-0.140625</td>\n",
       "      <td>Respeck</td>\n",
       "      <td>Sitting</td>\n",
       "      <td>0</td>\n",
       "      <td>s1800825</td>\n",
       "      <td></td>\n",
       "      <td>Respeck_s1800825_Sitting_28-09-2022_16-06-09</td>\n",
       "    </tr>\n",
       "    <tr>\n",
       "      <th>3</th>\n",
       "      <td>1664377543438</td>\n",
       "      <td>0.019043</td>\n",
       "      <td>-1.000549</td>\n",
       "      <td>0.147156</td>\n",
       "      <td>1.031250</td>\n",
       "      <td>0.562500</td>\n",
       "      <td>0.078125</td>\n",
       "      <td>Respeck</td>\n",
       "      <td>Sitting</td>\n",
       "      <td>0</td>\n",
       "      <td>s1800825</td>\n",
       "      <td></td>\n",
       "      <td>Respeck_s1800825_Sitting_28-09-2022_16-06-09</td>\n",
       "    </tr>\n",
       "    <tr>\n",
       "      <th>4</th>\n",
       "      <td>1664377543466</td>\n",
       "      <td>0.024902</td>\n",
       "      <td>-0.984192</td>\n",
       "      <td>0.156921</td>\n",
       "      <td>-0.171875</td>\n",
       "      <td>0.296875</td>\n",
       "      <td>-0.046875</td>\n",
       "      <td>Respeck</td>\n",
       "      <td>Sitting</td>\n",
       "      <td>0</td>\n",
       "      <td>s1800825</td>\n",
       "      <td></td>\n",
       "      <td>Respeck_s1800825_Sitting_28-09-2022_16-06-09</td>\n",
       "    </tr>\n",
       "    <tr>\n",
       "      <th>...</th>\n",
       "      <td>...</td>\n",
       "      <td>...</td>\n",
       "      <td>...</td>\n",
       "      <td>...</td>\n",
       "      <td>...</td>\n",
       "      <td>...</td>\n",
       "      <td>...</td>\n",
       "      <td>...</td>\n",
       "      <td>...</td>\n",
       "      <td>...</td>\n",
       "      <td>...</td>\n",
       "      <td>...</td>\n",
       "      <td>...</td>\n",
       "    </tr>\n",
       "    <tr>\n",
       "      <th>649</th>\n",
       "      <td>1664377568939</td>\n",
       "      <td>0.016846</td>\n",
       "      <td>-0.978088</td>\n",
       "      <td>0.216003</td>\n",
       "      <td>-0.390625</td>\n",
       "      <td>-0.437500</td>\n",
       "      <td>-0.328125</td>\n",
       "      <td>Respeck</td>\n",
       "      <td>Sitting</td>\n",
       "      <td>0</td>\n",
       "      <td>s1800825</td>\n",
       "      <td></td>\n",
       "      <td>Respeck_s1800825_Sitting_28-09-2022_16-06-09</td>\n",
       "    </tr>\n",
       "    <tr>\n",
       "      <th>650</th>\n",
       "      <td>1664377568952</td>\n",
       "      <td>0.039307</td>\n",
       "      <td>-0.988098</td>\n",
       "      <td>0.208435</td>\n",
       "      <td>1.875000</td>\n",
       "      <td>0.984375</td>\n",
       "      <td>0.156250</td>\n",
       "      <td>Respeck</td>\n",
       "      <td>Sitting</td>\n",
       "      <td>0</td>\n",
       "      <td>s1800825</td>\n",
       "      <td></td>\n",
       "      <td>Respeck_s1800825_Sitting_28-09-2022_16-06-09</td>\n",
       "    </tr>\n",
       "    <tr>\n",
       "      <th>651</th>\n",
       "      <td>1664377568998</td>\n",
       "      <td>0.026855</td>\n",
       "      <td>-0.974915</td>\n",
       "      <td>0.210144</td>\n",
       "      <td>-0.234375</td>\n",
       "      <td>0.828125</td>\n",
       "      <td>-0.125000</td>\n",
       "      <td>Respeck</td>\n",
       "      <td>Sitting</td>\n",
       "      <td>0</td>\n",
       "      <td>s1800825</td>\n",
       "      <td></td>\n",
       "      <td>Respeck_s1800825_Sitting_28-09-2022_16-06-09</td>\n",
       "    </tr>\n",
       "    <tr>\n",
       "      <th>652</th>\n",
       "      <td>1664377569058</td>\n",
       "      <td>0.029785</td>\n",
       "      <td>-0.988342</td>\n",
       "      <td>0.209412</td>\n",
       "      <td>0.281250</td>\n",
       "      <td>0.578125</td>\n",
       "      <td>0.109375</td>\n",
       "      <td>Respeck</td>\n",
       "      <td>Sitting</td>\n",
       "      <td>0</td>\n",
       "      <td>s1800825</td>\n",
       "      <td></td>\n",
       "      <td>Respeck_s1800825_Sitting_28-09-2022_16-06-09</td>\n",
       "    </tr>\n",
       "    <tr>\n",
       "      <th>653</th>\n",
       "      <td>1664377569072</td>\n",
       "      <td>0.040527</td>\n",
       "      <td>-0.978333</td>\n",
       "      <td>0.209656</td>\n",
       "      <td>0.421875</td>\n",
       "      <td>0.390625</td>\n",
       "      <td>0.031250</td>\n",
       "      <td>Respeck</td>\n",
       "      <td>Sitting</td>\n",
       "      <td>0</td>\n",
       "      <td>s1800825</td>\n",
       "      <td></td>\n",
       "      <td>Respeck_s1800825_Sitting_28-09-2022_16-06-09</td>\n",
       "    </tr>\n",
       "  </tbody>\n",
       "</table>\n",
       "<p>654 rows × 13 columns</p>\n",
       "</div>"
      ],
      "text/plain": [
       "         timestamp   accel_x   accel_y   accel_z    gyro_x    gyro_y  \\\n",
       "0    1664377543318  0.019043 -0.979797  0.158386 -0.296875  0.328125   \n",
       "1    1664377543347  0.020996 -1.003723  0.158630  0.062500  0.328125   \n",
       "2    1664377543377  0.022217 -0.982971  0.157410 -0.062500  0.093750   \n",
       "3    1664377543438  0.019043 -1.000549  0.147156  1.031250  0.562500   \n",
       "4    1664377543466  0.024902 -0.984192  0.156921 -0.171875  0.296875   \n",
       "..             ...       ...       ...       ...       ...       ...   \n",
       "649  1664377568939  0.016846 -0.978088  0.216003 -0.390625 -0.437500   \n",
       "650  1664377568952  0.039307 -0.988098  0.208435  1.875000  0.984375   \n",
       "651  1664377568998  0.026855 -0.974915  0.210144 -0.234375  0.828125   \n",
       "652  1664377569058  0.029785 -0.988342  0.209412  0.281250  0.578125   \n",
       "653  1664377569072  0.040527 -0.978333  0.209656  0.421875  0.390625   \n",
       "\n",
       "       gyro_z sensor_type activity_type  activity_code subject_id notes  \\\n",
       "0   -0.406250     Respeck       Sitting              0   s1800825         \n",
       "1   -0.031250     Respeck       Sitting              0   s1800825         \n",
       "2   -0.140625     Respeck       Sitting              0   s1800825         \n",
       "3    0.078125     Respeck       Sitting              0   s1800825         \n",
       "4   -0.046875     Respeck       Sitting              0   s1800825         \n",
       "..        ...         ...           ...            ...        ...   ...   \n",
       "649 -0.328125     Respeck       Sitting              0   s1800825         \n",
       "650  0.156250     Respeck       Sitting              0   s1800825         \n",
       "651 -0.125000     Respeck       Sitting              0   s1800825         \n",
       "652  0.109375     Respeck       Sitting              0   s1800825         \n",
       "653  0.031250     Respeck       Sitting              0   s1800825         \n",
       "\n",
       "                                     recording_id  \n",
       "0    Respeck_s1800825_Sitting_28-09-2022_16-06-09  \n",
       "1    Respeck_s1800825_Sitting_28-09-2022_16-06-09  \n",
       "2    Respeck_s1800825_Sitting_28-09-2022_16-06-09  \n",
       "3    Respeck_s1800825_Sitting_28-09-2022_16-06-09  \n",
       "4    Respeck_s1800825_Sitting_28-09-2022_16-06-09  \n",
       "..                                            ...  \n",
       "649  Respeck_s1800825_Sitting_28-09-2022_16-06-09  \n",
       "650  Respeck_s1800825_Sitting_28-09-2022_16-06-09  \n",
       "651  Respeck_s1800825_Sitting_28-09-2022_16-06-09  \n",
       "652  Respeck_s1800825_Sitting_28-09-2022_16-06-09  \n",
       "653  Respeck_s1800825_Sitting_28-09-2022_16-06-09  \n",
       "\n",
       "[654 rows x 13 columns]"
      ]
     },
     "execution_count": 26,
     "metadata": {},
     "output_type": "execute_result"
    }
   ],
   "source": [
    "df_respeck"
   ]
  },
  {
   "cell_type": "markdown",
   "metadata": {},
   "source": [
    "One useful function is checking the frequency of your recordings. The sensors are both running at 25Hz but it is possible that some packets are dropped along the way. You can use the below function to quickly check the frequency of any of your recordings."
   ]
  },
  {
   "cell_type": "code",
   "execution_count": 27,
   "metadata": {},
   "outputs": [],
   "source": [
    "def get_frequency(dataframe: pd.DataFrame, ts_column: str = 'timestamp') -> float:\n",
    "    \"\"\"\n",
    "    :param dataframe: Dataframe containing sensor data. It needs to have a 'timestamp' column.\n",
    "    :param ts_column: The name of the column containing the timestamps. Default is 'timestamp'.\n",
    "    :returns: Frequency in Hz (samples per second)\n",
    "    \"\"\"\n",
    "\n",
    "    return len(dataframe) / ((dataframe[ts_column].iloc[-1] - dataframe[ts_column].iloc[0]) / 1000)"
   ]
  },
  {
   "cell_type": "code",
   "execution_count": 13,
   "metadata": {},
   "outputs": [
    {
     "data": {
      "text/plain": [
       "25.374347855545768"
      ]
     },
     "execution_count": 13,
     "metadata": {},
     "output_type": "execute_result"
    }
   ],
   "source": [
    "get_frequency(df_respeck)"
   ]
  },
  {
   "cell_type": "markdown",
   "metadata": {},
   "source": [
    "Here we can see that the frequency of this recording is a bit over 25Hz, which is considered normal. You should be worried if your recordings deviate with more than 2Hz from the 25Hz threshold. "
   ]
  },
  {
   "cell_type": "markdown",
   "metadata": {},
   "source": [
    "You can load the thingy data in a similar way"
   ]
  },
  {
   "cell_type": "code",
   "execution_count": 14,
   "metadata": {},
   "outputs": [
    {
     "ename": "FileNotFoundError",
     "evalue": "[Errno 2] No such file or directory: './Data/Thingy_s1234567_Walking at normal speed_17-09-2021_13-32-12.csv'",
     "output_type": "error",
     "traceback": [
      "\u001b[1;31m---------------------------------------------------------------------------\u001b[0m",
      "\u001b[1;31mFileNotFoundError\u001b[0m                         Traceback (most recent call last)",
      "Input \u001b[1;32mIn [14]\u001b[0m, in \u001b[0;36m<cell line: 4>\u001b[1;34m()\u001b[0m\n\u001b[0;32m      1\u001b[0m filename_thingy \u001b[38;5;241m=\u001b[39m \u001b[38;5;124m\"\u001b[39m\u001b[38;5;124m./Data/Thingy_s1234567_Walking at normal speed_17-09-2021_13-32-12.csv\u001b[39m\u001b[38;5;124m\"\u001b[39m\n\u001b[0;32m      3\u001b[0m \u001b[38;5;66;03m# extract header information\u001b[39;00m\n\u001b[1;32m----> 4\u001b[0m sensor_type, activity_type, activity_code, subject_id, notes \u001b[38;5;241m=\u001b[39m \u001b[43mextract_header_info\u001b[49m\u001b[43m(\u001b[49m\u001b[43mfilename\u001b[49m\u001b[38;5;241;43m=\u001b[39;49m\u001b[43mfilename_thingy\u001b[49m\u001b[43m)\u001b[49m\n\u001b[0;32m      6\u001b[0m \u001b[38;5;66;03m# load data\u001b[39;00m\n\u001b[0;32m      7\u001b[0m df_thingy \u001b[38;5;241m=\u001b[39m pd\u001b[38;5;241m.\u001b[39mread_csv(filename_thingy, header\u001b[38;5;241m=\u001b[39mheader_size)\n",
      "Input \u001b[1;32mIn [4]\u001b[0m, in \u001b[0;36mextract_header_info\u001b[1;34m(filename, header_size)\u001b[0m\n\u001b[0;32m     10\u001b[0m subject_id \u001b[38;5;241m=\u001b[39m \u001b[38;5;124m\"\u001b[39m\u001b[38;5;124m\"\u001b[39m\n\u001b[0;32m     11\u001b[0m notes \u001b[38;5;241m=\u001b[39m \u001b[38;5;124m\"\u001b[39m\u001b[38;5;124m\"\u001b[39m\n\u001b[1;32m---> 13\u001b[0m \u001b[38;5;28;01mwith\u001b[39;00m \u001b[38;5;28;43mopen\u001b[39;49m\u001b[43m(\u001b[49m\u001b[43mfilename\u001b[49m\u001b[43m)\u001b[49m \u001b[38;5;28;01mas\u001b[39;00m f:\n\u001b[0;32m     14\u001b[0m     head \u001b[38;5;241m=\u001b[39m [\u001b[38;5;28mnext\u001b[39m(f)\u001b[38;5;241m.\u001b[39mrstrip()\u001b[38;5;241m.\u001b[39msplit(\u001b[38;5;124m'\u001b[39m\u001b[38;5;124m# \u001b[39m\u001b[38;5;124m'\u001b[39m)[\u001b[38;5;241m1\u001b[39m] \u001b[38;5;28;01mfor\u001b[39;00m x \u001b[38;5;129;01min\u001b[39;00m \u001b[38;5;28mrange\u001b[39m(header_size)]\n\u001b[0;32m     15\u001b[0m     \u001b[38;5;28;01mfor\u001b[39;00m l \u001b[38;5;129;01min\u001b[39;00m head:\n",
      "\u001b[1;31mFileNotFoundError\u001b[0m: [Errno 2] No such file or directory: './Data/Thingy_s1234567_Walking at normal speed_17-09-2021_13-32-12.csv'"
     ]
    }
   ],
   "source": [
    "filename_thingy = \"./Data/Thingy_s1234567_Walking at normal speed_17-09-2021_13-32-12.csv\"\n",
    "\n",
    "# extract header information\n",
    "sensor_type, activity_type, activity_code, subject_id, notes = extract_header_info(filename=filename_thingy)\n",
    "\n",
    "# load data\n",
    "df_thingy = pd.read_csv(filename_thingy, header=header_size)\n",
    "\n",
    "# append recording metadata\n",
    "df_thingy['sensor_type'] = sensor_type\n",
    "df_thingy['activity_type'] = activity_type\n",
    "df_thingy['activity_code'] = activity_code\n",
    "df_thingy['subject_id'] = subject_id\n",
    "df_thingy['notes'] = notes\n",
    "\n",
    "# get the recording ID\n",
    "df_thingy['recording_id'] = filename_thingy.split(\"/\")[-1].split(\".\")[0]"
   ]
  },
  {
   "cell_type": "code",
   "execution_count": null,
   "metadata": {},
   "outputs": [],
   "source": [
    "df_thingy"
   ]
  },
  {
   "cell_type": "markdown",
   "metadata": {},
   "source": [
    "### Visualising data"
   ]
  },
  {
   "cell_type": "markdown",
   "metadata": {},
   "source": [
    "Next we will learn how to visualise the data from both sensors.\n",
    "\n",
    "Be careful when plotting sensor data, if you are trying to compare activities you need to make sure that the axes match. Accelerometer and Gyroscope data are measured on very different scales - accelerometer data is usually in the range [-4, 4], while gyroscope data can get to the 10s and 100s. You should not plot them on the same plot."
   ]
  },
  {
   "cell_type": "code",
   "execution_count": 15,
   "metadata": {
    "scrolled": false
   },
   "outputs": [
    {
     "data": {
      "text/plain": [
       "Text(0.5, 1.0, 'Respeck - Sitting bent forward \\n Gyroscope data')"
      ]
     },
     "execution_count": 15,
     "metadata": {},
     "output_type": "execute_result"
    },
    {
     "data": {
      "image/png": "[encoded data removed]",
      "text/plain": [
       "<Figure size 864x864 with 2 Axes>"
      ]
     },
     "metadata": {
      "needs_background": "light"
     },
     "output_type": "display_data"
    }
   ],
   "source": [
    "fig, ax = plt.subplots(2, 1, figsize=(12, 12))\n",
    "\n",
    "# plot respeck\n",
    "ax[0].plot(df_respeck['accel_x'], label=\"accel_x\")\n",
    "ax[0].plot(df_respeck['accel_y'], label=\"accel_y\")\n",
    "ax[0].plot(df_respeck['accel_z'], label=\"accel_z\")\n",
    "ax[0].legend()\n",
    "\n",
    "ax[0].set_title(f\"{df_respeck['sensor_type'].values[0]} - {df_respeck['activity_type'].values[0]} \\n Accelerometer data\")\n",
    "\n",
    "ax[1].plot(df_respeck['gyro_x'], label=\"gyro_x\")\n",
    "ax[1].plot(df_respeck['gyro_y'], label=\"gyro_y\")\n",
    "ax[1].plot(df_respeck['gyro_z'], label=\"gyro_z\")\n",
    "ax[1].legend()\n",
    "\n",
    "ax[1].set_title(f\"{df_respeck['sensor_type'].values[0]} - {df_respeck['activity_type'].values[0]} \\n Gyroscope data\")"
   ]
  },
  {
   "cell_type": "code",
   "execution_count": null,
   "metadata": {},
   "outputs": [],
   "source": [
    "fig, ax = plt.subplots(3, 1, figsize=(12, 18))\n",
    "\n",
    "# plot thingy\n",
    "ax[0].plot(df_thingy['accel_x'], label=\"accel_x\")\n",
    "ax[0].plot(df_thingy['accel_y'], label=\"accel_y\")\n",
    "ax[0].plot(df_thingy['accel_z'], label=\"accel_z\")\n",
    "ax[0].legend()\n",
    "\n",
    "ax[0].set_title(f\"{df_thingy['sensor_type'].values[0]} - {df_thingy['activity_type'].values[0]} \\n Accelerometer data\")\n",
    "\n",
    "ax[1].plot(df_thingy['gyro_x'], label=\"gyro_x\")\n",
    "ax[1].plot(df_thingy['gyro_y'], label=\"gyro_y\")\n",
    "ax[1].plot(df_thingy['gyro_z'], label=\"gyro_z\")\n",
    "ax[1].legend()\n",
    "\n",
    "ax[1].set_title(f\"{df_thingy['sensor_type'].values[0]} - {df_thingy['activity_type'].values[0]} \\n Gyroscope data\")\n",
    "\n",
    "ax[2].plot(df_thingy['mag_x'], label=\"mag_x\")\n",
    "ax[2].plot(df_thingy['mag_y'], label=\"mag_y\")\n",
    "ax[2].plot(df_thingy['mag_z'], label=\"mag_z\")\n",
    "ax[2].legend()\n",
    "\n",
    "ax[2].set_title(f\"{df_thingy['sensor_type'].values[0]} - {df_thingy['activity_type'].values[0]} \\n Magnetometer data\")"
   ]
  },
  {
   "cell_type": "markdown",
   "metadata": {},
   "source": [
    "Begin by visually inspecting a set of different activities for both sensors, to see how they might best be differentiated. Then you can begin to analyse windows of data for the signal and try to categorise it into the different activities."
   ]
  },
  {
   "cell_type": "markdown",
   "metadata": {},
   "source": [
    "## Trimming and cleaning data"
   ]
  },
  {
   "cell_type": "markdown",
   "metadata": {},
   "source": [
    "You need to visually verify all of your recordings and make sure the activity starts at the very beginning of the recording and stops at the very end. \n",
    "\n",
    "For example, in the above Thingy recording of walking, you can see that the first 25 datapoints (1 second) were rather still, and the real walking begins a second later. You can amend this by trimming the recording to remove the first and last seconds, or however much time you think would work. \n",
    "\n",
    "The total length of your **trimmed and cleaned** recordings should be **30 seconds**.\n",
    "\n",
    "To check the time of a recording (in seconds) you can run the following code:"
   ]
  },
  {
   "cell_type": "code",
   "execution_count": null,
   "metadata": {},
   "outputs": [],
   "source": [
    "len(df_thingy) / get_frequency(df_thingy)"
   ]
  },
  {
   "cell_type": "markdown",
   "metadata": {},
   "source": [
    "## Saving your clean data"
   ]
  },
  {
   "cell_type": "markdown",
   "metadata": {},
   "source": [
    "When you are done cleaning your data you can save it to a location of your choice by running the following commands:"
   ]
  },
  {
   "cell_type": "code",
   "execution_count": null,
   "metadata": {},
   "outputs": [],
   "source": [
    "rec_name = df_respeck.recording_id.values[0]\n",
    "print(rec_name)\n",
    "\n",
    "df_respeck.to_csv(f\"./Data/Clean/{rec_name}.csv\", index=False)"
   ]
  },
  {
   "cell_type": "code",
   "execution_count": null,
   "metadata": {},
   "outputs": [],
   "source": [
    "rec_name = df_thingy.recording_id.values[0]\n",
    "print(rec_name)\n",
    "\n",
    "df_thingy.to_csv(f\"./Data/Clean/{rec_name}.csv\", index=False)"
   ]
  },
  {
   "cell_type": "markdown",
   "metadata": {},
   "source": [
    "## Uploading collected data"
   ]
  },
  {
   "cell_type": "markdown",
   "metadata": {},
   "source": [
    "The format in which you should save each of your recordings is the format we arrive at in this notebook. That is:\n",
    "- no header\n",
    "- all the header information transformed into column values\n",
    "- column list:\n",
    "    * timestamp\n",
    "    * accel_x, accel_y, accel_z\n",
    "    * gyro_x, gyro_y, gyro_z\n",
    "    * (for Thingy recordings) mag_x, mag_y, mag_z\n",
    "    * sensor_type\n",
    "    * activity_type\n",
    "    * activity_code\n",
    "    * subject_id\n",
    "    * notes\n",
    "    * recording_id\n",
    "    \n",
    "Be very vareful when uploading these to the shared repository and make sure your files are in the correct format. We will be checking your submissions automatically. \n",
    "\n",
    "You can double check the columns of your dataframe by running:"
   ]
  },
  {
   "cell_type": "code",
   "execution_count": null,
   "metadata": {},
   "outputs": [],
   "source": [
    "df_respeck.columns"
   ]
  },
  {
   "cell_type": "markdown",
   "metadata": {},
   "source": [
    "## Common techniques to consider"
   ]
  },
  {
   "cell_type": "markdown",
   "metadata": {},
   "source": [
    "* There are two main ways in which you can tackle this HAR task: using Machine Learning algorithms (Random Forest Classifier (RFC), Clustering, Regression etc), or Deep Learning methods (Convolutional Neural Networks (CNN), Recurrent Neural Networks (RNN) etc).\n",
    "\n",
    "\n",
    "* The most common way to preprocess time series data is to divide it into sliding windows (you can choose how much they overlap).\n",
    "\n",
    "\n",
    "* The sliding windows can then be directly passed to your algorithm (for example the CNN), or you can extract features of the signal from the windows and pass a vector of features to the classification algorithm (for example, a RFC). \n",
    "\n",
    "\n",
    "* Be very careful about splitting the data into training, validation and test sets. Your algorithms will perform extremely well when data is coming from the same subject. You need to test your algorithms with a technique called Leave One Subject Out Cross Validation (LOSOXV) whereby you test your method on data from an unseen subject.\n",
    "\n",
    "The Week 2 - Introduction to Human Activity Recognition lab gives you an overview of these techniques."
   ]
  },
  {
   "cell_type": "code",
   "execution_count": null,
   "metadata": {},
   "outputs": [],
   "source": []
  }
 ],
 "metadata": {
  "kernelspec": {
   "display_name": "Python 3 (ipykernel)",
   "language": "python",
   "name": "python3"
  },
  "language_info": {
   "codemirror_mode": {
    "name": "ipython",
    "version": 3
   },
   "file_extension": ".py",
   "mimetype": "text/x-python",
   "name": "python",
   "nbconvert_exporter": "python",
   "pygments_lexer": "ipython3",
   "version": "3.9.6"
  }
 },
 "nbformat": 4,
 "nbformat_minor": 2
}
